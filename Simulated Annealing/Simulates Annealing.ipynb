{
 "cells": [
  {
   "cell_type": "markdown",
   "metadata": {},
   "source": [
    "# Introduction"
   ]
  },
  {
   "cell_type": "markdown",
   "metadata": {},
   "source": [
    "# Table of content\n",
    "\n",
    "<div class=\"alert alert-block alert-info\" style=\"margin-top:20px\">\n",
    "\n",
    "1. [**Capacitated Vehicle Routing Problem Description**](#0)<br>\n",
    "    \n",
    "    1.1 [*Linear Integer Programming Model*](#2)<br>\n",
    "    1.2 [*Problem Description*](#4)<br>\n",
    "    1.3 [*Datasets*](#6)<br>\n",
    "    \n",
    "2. [*pandas* Basics](#) <br>\n",
    "    \n",
    "3. [*pandas* Intermediate: Indexing and Selection](#) <br>\n",
    "\n",
    "</div>"
   ]
  },
  {
   "attachments": {
    "image.png": {
     "image/png": "[encoded data removed]"
    }
   },
   "cell_type": "markdown",
   "metadata": {},
   "source": [
    "# Capacitated Vehicle Routing Problem <a id=\"0\"></a>\n",
    "\n",
    "> The **capacitated vehicle routing problem (CVRP)** is a VRP in which vehicles with limited carrying capacity need to pick up or deliver items at various locations. The items have a quantity, such as weight or volume, and the vehicles have maximum capacity that they can carry. The problem is to pick up or deliver the items for the least cost, while never exceeding the capacity of the vehicles. [Google OR-Tool](https://developers.google.com/optimization/routing/cvrp#example)\n",
    "![image.png](attachment:image.png)"
   ]
  },
  {
   "cell_type": "markdown",
   "metadata": {},
   "source": [
    "## Linear Integer Programming Model<a id=\"2\"></a>\n",
    "\n",
    "**A CVRP can be formulated as a linear integer programming model. The total distance of the route, where all costumers demands are met, should be minimized.**\n",
    "\n",
    "- $n$ __is the number of clients__\n",
    "\n",
    "- $N$ __is set of clients, with__ $N=\\{1,2,3,....n\\}$\n",
    "\n",
    "- $V$ __is set of vertices (or nodes), with__ $V=\\{0\\}\\cup N$\n",
    "\n",
    "- $A$ **is set of arcs, with** $ A=\\{(i,j) \\ in V^2 : i\\neq j\\}$\n",
    "\n",
    "- $d_{i,j}$ **is the cost of travel over arc** $ {i,j} \\in A$\n",
    "\n",
    "- $Q$ **is the vehicle capacity**\n",
    "\n",
    "- $d_i$ **is the amount of demand of customer**\n",
    "\n",
    "**__Then the formulation is provided in the following__**\n",
    "\n",
    "$$\\begin{align}\n",
    "\\min\\quad & \\sum_{i,j\\in A} d_{i,j}x_{i,j}\\\\\n",
    "\\text{s.t.} \\quad & \\sum_{j \\in V , j\\neq i } x_{i,j} = 1 && i \\in N \\\\\n",
    "& \\sum _{i \\in V, i\\neq j} x_{i,j} = 1 && j \\in N \\\\\n",
    "& \\text{if} \\ x_{i,j} = 1 \\ \\Rightarrow \\ u_i + d_j = u_j && i,j \\in A : j\\neq0, i\\neq0 \\\\\n",
    "& d_i \\leq u_i \\leq Q && i \\in N \\\\\n",
    "& x_{i,j} \\in \\{1,0\\} && i,j \\in A \n",
    "\\end {align}$$\n",
    "\n",
    "\n"
   ]
  },
  {
   "cell_type": "markdown",
   "metadata": {},
   "source": [
    "## Problem Description<a id=\"4\"></a>\n",
    ">The input consists of a set of 𝑛 + 1 points, a depot and n customers; an (𝑛 + 1) × (𝑛 +1) matrix 𝑑 = [𝑑𝑖𝑗] with the distances between every pair of points i and j ; an n-dimensional demand vector 𝑑 = [𝑞𝑖] giving the amount to be delivered to customer i ; and a vehicle capacity Q . A solution is a set of routes, starting and ending at the depot, that visitevery customer exactly once in such a way that the sum of the demands of the customers of each route does not exceed the vehicle capacity. The objective is to find a solution with minimum total route distance. Some authors also assume that the number of routes is fixed to an additional input number K; however we define it as the minimum possible number of routes, 𝐾𝑚𝑖𝑛. Therefore, the number 𝐾𝑚𝑖𝑛 indicated in each instance should be taken only as a lower bound on the number of routes in a \n",
    "solution. \n",
    "Learning objective. You are going to design various solution methods based on a variety of metaheuristics to tackle the CVRP. Meanwhile, you will become familiar with a range of performance analysis methods. Finally, you would probably recognize the positive and negative aspects of each metaheuristic when it is applied to solve such problem. \n",
    "Instances. CVRP is a well-studied variant with many instances appearing in the literature. \n",
    "Recently, a large and diversified set of benchmark instances was proposed in Uchoa et al. (2017). \n",
    "The instance set contains 30 instances, having from at least 100 to at most 1000 customers. The distances are two dimensional Euclidean and are rounded to the nearest integer. Depot and costumers have integer coordinates corresponding to points in a [0, 1000] × [0, 1000] grid. The name of an instance has a format X-nA-kB, where A represents n + 1, the number of points in the instance including the depot, and B is the minimum possible number of routes 𝐾𝑚𝑖𝑛. "
   ]
  },
  {
   "cell_type": "markdown",
   "metadata": {},
   "source": [
    "###  Datasets <a id=\"6\"></a>"
   ]
  },
  {
   "cell_type": "markdown",
   "metadata": {},
   "source": [
    "### Instances:\n",
    "__CVRP__ is a well-studied variant with many instances appearing in the literature. \n",
    "Recently, a large and diversified set of benchmark instances was proposed in [Uchoa et al. (2017)](https://www.sciencedirect.com/science/article/abs/pii/S0377221716306270). \n",
    "The instance set contains 30 instances, having from at least 100 to at most 1000 customers. The \n",
    "distances are two-dimensional Euclidean and are rounded to the nearest integer. Depot and \n",
    "costumers have integer coordinates corresponding to points in a [0, 1000] × [0, 1000] grid. The \n",
    "name of an instance has a format X-nA-kB, where A represents n + 1, the number of points in the \n",
    "instance including the depot, and B is the minimum possible number of routes 𝐾𝑚𝑖𝑛. \n",
    "The so-called instances were generated by systematically varying attributes like:  \n",
    "- depot positioning: three different positions for the depot are considered: \n",
    "   - Central (C) – depot in the center of the grid, point (500,500). \n",
    "   - Eccentric (E) – depot in the corner of the grid, point (0,0). \n",
    "   - Random (R) – depot in a random point of the grid. \n",
    "- customer positioning: three alternatives for customer positioning are considered: \n",
    "  - Random (R) –all customers are positioned in random points of the grid. \n",
    "  - Clustered (C) –at first, a number S of customers that will act as cluster seeds is \n",
    "    picked. Next, the S seeds are randomly positioned in the grid. The seeds will then \n",
    "    attract, with an exponential decay, the other n – S customers. \n",
    "  - Random-clustered (RC) –half of the customers are clustered by the above described \n",
    "     scheme, the remaining customers are randomly positioned. \n",
    "- demand distribution (seven possibilities) and \n",
    "- average route size (five distinct ranges) which is equal to 𝑛/𝑘𝑚𝑖𝑛: a comprehensive \n",
    "  benchmark set should contain instances where this attribute vary over a wide range of \n",
    "  values. So, we can check the performance of an algorithm in constructing solutions contain \n",
    "  long or short paths. As a matter of fact, we cannot make a general statement that instances \n",
    "  with shorter routes are easier than instances with longer routes or the opposite. What \n",
    "  happens is that some methods are more suited for short routes and other methods for longer \n",
    "  routes. "
   ]
  },
  {
   "cell_type": "code",
   "execution_count": 1,
   "metadata": {},
   "outputs": [],
   "source": [
    "import matplotlib.pyplot as plt\n",
    "%matplotlib inline\n",
    "from Functions import*\n",
    "from DataInfo import*\n",
    "from Simulated_Annealing import*\n",
    "from Initial_Solution import*"
   ]
  },
  {
   "cell_type": "code",
   "execution_count": 2,
   "metadata": {},
   "outputs": [
    {
     "name": "stderr",
     "output_type": "stream",
     "text": [
      "/usr/local/lib/python3.8/dist-packages/pandas/core/frame.py:4441: SettingWithCopyWarning: \n",
      "A value is trying to be set on a copy of a slice from a DataFrame\n",
      "\n",
      "See the caveats in the documentation: https://pandas.pydata.org/pandas-docs/stable/user_guide/indexing.html#returning-a-view-versus-a-copy\n",
      "  return super().rename(\n",
      "/usr/local/lib/python3.8/dist-packages/pandas/core/frame.py:4308: SettingWithCopyWarning: \n",
      "A value is trying to be set on a copy of a slice from a DataFrame\n",
      "\n",
      "See the caveats in the documentation: https://pandas.pydata.org/pandas-docs/stable/user_guide/indexing.html#returning-a-view-versus-a-copy\n",
      "  return super().drop(\n"
     ]
    },
    {
     "name": "stdout",
     "output_type": "stream",
     "text": [
      "loss is: 32363 <=====> bestsofar is:  32363  temprature is: 15000\n",
      "loss is: 62257 <=====> bestsofar is:  32363  temprature is: 0.39842098331381315\n",
      "114\n"
     ]
    },
    {
     "data": {
      "text/plain": [
       "(32363,\n",
       " {0: [0, 9, 92, 54, 76],\n",
       "  1: [0, 61, 100, 21, 50],\n",
       "  2: [0, 78, 42, 65, 25, 39],\n",
       "  3: [0, 56, 94, 96, 64, 34],\n",
       "  4: [0, 51, 83, 71],\n",
       "  5: [0, 99, 62, 98, 89, 47, 87],\n",
       "  6: [0, 73, 53, 33, 95, 32, 24],\n",
       "  7: [0, 18, 4, 66],\n",
       "  8: [0, 57, 72, 82, 60, 88],\n",
       "  9: [0, 85, 30, 11, 19],\n",
       "  10: [0, 1, 86, 68, 84],\n",
       "  11: [0, 55, 69, 74],\n",
       "  12: [0, 35, 46, 31],\n",
       "  13: [0, 79, 23, 97],\n",
       "  14: [0, 2, 49, 6, 29, 43, 45, 7],\n",
       "  15: [0, 91, 81, 52, 26],\n",
       "  16: [0, 27, 38, 3],\n",
       "  17: [0, 17, 80, 40],\n",
       "  18: [0, 67, 59, 14],\n",
       "  19: [0, 16, 90, 13],\n",
       "  20: [0, 93, 75, 15],\n",
       "  21: [0, 8, 44, 77],\n",
       "  22: [0, 28, 63, 10],\n",
       "  23: [0, 70, 22],\n",
       "  24: [0, 36, 37],\n",
       "  25: [0, 48, 58],\n",
       "  26: [0, 12, 5, 20],\n",
       "  27: [0, 41]},\n",
       " 0.1791552225748698)"
      ]
     },
     "execution_count": 2,
     "metadata": {},
     "output_type": "execute_result"
    },
    {
     "data": {
      "image/png": "[encoded data removed]",
      "text/plain": [
       "<Figure size 432x288 with 1 Axes>"
      ]
     },
     "metadata": {
      "needs_background": "light"
     },
     "output_type": "display_data"
    }
   ],
   "source": [
    "SA_Model()"
   ]
  },
  {
   "cell_type": "code",
   "execution_count": null,
   "metadata": {},
   "outputs": [],
   "source": []
  }
 ],
 "metadata": {
  "kernelspec": {
   "display_name": "Python 3",
   "language": "python",
   "name": "python3"
  },
  "language_info": {
   "codemirror_mode": {
    "name": "ipython",
    "version": 3
   },
   "file_extension": ".py",
   "mimetype": "text/x-python",
   "name": "python",
   "nbconvert_exporter": "python",
   "pygments_lexer": "ipython3",
   "version": "3.8.5"
  }
 },
 "nbformat": 4,
 "nbformat_minor": 4
}
