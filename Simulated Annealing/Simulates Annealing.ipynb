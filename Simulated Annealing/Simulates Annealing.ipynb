{
 "cells": [
  {
   "cell_type": "markdown",
   "metadata": {},
   "source": [
    "# Introduction"
   ]
  },
  {
   "cell_type": "markdown",
   "metadata": {},
   "source": [
    "# Table of content\n",
    "\n",
    "<div class=\"alert alert-block alert-info\" style=\"margin-top:20px\">\n",
    "\n",
    "1. [**Capacitated Vehicle Routing Problem Description**](#0)<br>\n",
    "    \n",
    "    1.1 [*Linear Integer Programming Model*](#2)<br>\n",
    "    1.2 [*Problem Description*](#4)<br>\n",
    "    1.3 [*Datasets*](#6)<br>\n",
    "    \n",
    "2. [*pandas* Basics](#) <br>\n",
    "    \n",
    "3. [*pandas* Intermediate: Indexing and Selection](#) <br>\n",
    "\n",
    "</div>"
   ]
  },
  {
   "attachments": {
    "image.png": {
     "image/png": "[encoded data removed]"
    }
   },
   "cell_type": "markdown",
   "metadata": {},
   "source": [
    "# Capacitated Vehicle Routing Problem <a id=\"0\"></a>\n",
    "\n",
    "> The **capacitated vehicle routing problem (CVRP)** is a VRP in which vehicles with limited carrying capacity need to pick up or deliver items at various locations. The items have a quantity, such as weight or volume, and the vehicles have maximum capacity that they can carry. The problem is to pick up or deliver the items for the least cost, while never exceeding the capacity of the vehicles. [Google OR-Tool](https://developers.google.com/optimization/routing/cvrp#example)\n",
    "![image.png](attachment:image.png)"
   ]
  },
  {
   "cell_type": "markdown",
   "metadata": {},
   "source": [
    "## Linear Integer Programming Model<a id=\"2\"></a>\n",
    "\n",
    "**A CVRP can be formulated as a linear integer programming model. The total distance of the route, where all costumers demands are met, should be minimized.**\n",
    "\n",
    "- $n$ __is the number of clients__\n",
    "\n",
    "- $N$ __is set of clients, with__ $N=\\{1,2,3,....n\\}$\n",
    "\n",
    "- $V$ __is set of vertices (or nodes), with__ $V=\\{0\\}\\cup N$\n",
    "\n",
    "- $A$ **is set of arcs, with** $ A=\\{(i,j) \\ in V^2 : i\\neq j\\}$\n",
    "\n",
    "- $d_{i,j}$ **is the cost of travel over arc** $ {i,j} \\in A$\n",
    "\n",
    "- $Q$ **is the vehicle capacity**\n",
    "\n",
    "- $d_i$ **is the amount of demand of customer**\n",
    "\n",
    "**__Then the formulation is provided in the following__**\n",
    "\n",
    "$$\\begin{align}\n",
    "\\min\\quad & \\sum_{i,j\\in A} d_{i,j}x_{i,j}\\\\\n",
    "\\text{s.t.} \\quad & \\sum_{j \\in V , j\\neq i } x_{i,j} = 1 && i \\in N \\\\\n",
    "& \\sum _{i \\in V, i\\neq j} x_{i,j} = 1 && j \\in N \\\\\n",
    "& \\text{if} \\ x_{i,j} = 1 \\ \\Rightarrow \\ u_i + d_j = u_j && i,j \\in A : j\\neq0, i\\neq0 \\\\\n",
    "& d_i \\leq u_i \\leq Q && i \\in N \\\\\n",
    "& x_{i,j} \\in \\{1,0\\} && i,j \\in A \n",
    "\\end {align}$$\n",
    "\n",
    "\n"
   ]
  },
  {
   "cell_type": "markdown",
   "metadata": {},
   "source": [
    "## Problem Description<a id=\"4\"></a>\n",
    ">The input consists of a set of 𝑛 + 1 points, a depot and n customers; an (𝑛 + 1) × (𝑛 +1) matrix 𝑑 = [𝑑𝑖𝑗] with the distances between every pair of points i and j ; an n-dimensional demand vector 𝑑 = [𝑞𝑖] giving the amount to be delivered to customer i ; and a vehicle capacity Q . A solution is a set of routes, starting and ending at the depot, that visitevery customer exactly once in such a way that the sum of the demands of the customers of each route does not exceed the vehicle capacity. The objective is to find a solution with minimum total route distance. Some authors also assume that the number of routes is fixed to an additional input number K; however we define it as the minimum possible number of routes, 𝐾𝑚𝑖𝑛. Therefore, the number 𝐾𝑚𝑖𝑛 indicated in each instance should be taken only as a lower bound on the number of routes in a \n",
    "solution. \n",
    "Learning objective. You are going to design various solution methods based on a variety of metaheuristics to tackle the CVRP. Meanwhile, you will become familiar with a range of performance analysis methods. Finally, you would probably recognize the positive and negative aspects of each metaheuristic when it is applied to solve such problem. \n",
    "Instances. CVRP is a well-studied variant with many instances appearing in the literature. \n",
    "Recently, a large and diversified set of benchmark instances was proposed in Uchoa et al. (2017). \n",
    "The instance set contains 30 instances, having from at least 100 to at most 1000 customers. The distances are two dimensional Euclidean and are rounded to the nearest integer. Depot and costumers have integer coordinates corresponding to points in a [0, 1000] × [0, 1000] grid. The name of an instance has a format X-nA-kB, where A represents n + 1, the number of points in the instance including the depot, and B is the minimum possible number of routes 𝐾𝑚𝑖𝑛. "
   ]
  },
  {
   "cell_type": "markdown",
   "metadata": {},
   "source": [
    "###  Datasets <a id=\"6\"></a>"
   ]
  },
  {
   "cell_type": "markdown",
   "metadata": {},
   "source": [
    "### Instances:\n",
    "__CVRP__ is a well-studied variant with many instances appearing in the literature. \n",
    "Recently, a large and diversified set of benchmark instances was proposed in [Uchoa et al. (2017)](https://www.sciencedirect.com/science/article/abs/pii/S0377221716306270). \n",
    "The instance set contains 30 instances, having from at least 100 to at most 1000 customers. The \n",
    "distances are two-dimensional Euclidean and are rounded to the nearest integer. Depot and \n",
    "costumers have integer coordinates corresponding to points in a [0, 1000] × [0, 1000] grid. The \n",
    "name of an instance has a format X-nA-kB, where A represents n + 1, the number of points in the \n",
    "instance including the depot, and B is the minimum possible number of routes 𝐾𝑚𝑖𝑛. \n",
    "The so-called instances were generated by systematically varying attributes like:  \n",
    "- depot positioning: three different positions for the depot are considered: \n",
    "   - Central (C) – depot in the center of the grid, point (500,500). \n",
    "   - Eccentric (E) – depot in the corner of the grid, point (0,0). \n",
    "   - Random (R) – depot in a random point of the grid. \n",
    "- customer positioning: three alternatives for customer positioning are considered: \n",
    "  - Random (R) –all customers are positioned in random points of the grid. \n",
    "  - Clustered (C) –at first, a number S of customers that will act as cluster seeds is \n",
    "    picked. Next, the S seeds are randomly positioned in the grid. The seeds will then \n",
    "    attract, with an exponential decay, the other n – S customers. \n",
    "  - Random-clustered (RC) –half of the customers are clustered by the above described \n",
    "     scheme, the remaining customers are randomly positioned. \n",
    "- demand distribution (seven possibilities) and \n",
    "- average route size (five distinct ranges) which is equal to 𝑛/𝑘𝑚𝑖𝑛: a comprehensive \n",
    "  benchmark set should contain instances where this attribute vary over a wide range of \n",
    "  values. So, we can check the performance of an algorithm in constructing solutions contain \n",
    "  long or short paths. As a matter of fact, we cannot make a general statement that instances \n",
    "  with shorter routes are easier than instances with longer routes or the opposite. What \n",
    "  happens is that some methods are more suited for short routes and other methods for longer \n",
    "  routes. "
   ]
  },
  {
   "cell_type": "code",
   "execution_count": 1,
   "metadata": {},
   "outputs": [],
   "source": [
    "import matplotlib.pyplot as plt\n",
    "%matplotlib inline\n",
    "from Functions import*\n",
    "from DataInfo import*\n",
    "from Simulated_Annealing import*\n",
    "from Initial_Solution import*"
   ]
  },
  {
   "cell_type": "code",
   "execution_count": 2,
   "metadata": {},
   "outputs": [
    {
     "name": "stderr",
     "output_type": "stream",
     "text": [
      "/usr/local/lib/python3.8/dist-packages/pandas/core/frame.py:4441: SettingWithCopyWarning: \n",
      "A value is trying to be set on a copy of a slice from a DataFrame\n",
      "\n",
      "See the caveats in the documentation: https://pandas.pydata.org/pandas-docs/stable/user_guide/indexing.html#returning-a-view-versus-a-copy\n",
      "  return super().rename(\n",
      "/usr/local/lib/python3.8/dist-packages/pandas/core/frame.py:4308: SettingWithCopyWarning: \n",
      "A value is trying to be set on a copy of a slice from a DataFrame\n",
      "\n",
      "See the caveats in the documentation: https://pandas.pydata.org/pandas-docs/stable/user_guide/indexing.html#returning-a-view-versus-a-copy\n",
      "  return super().drop(\n"
     ]
    },
    {
     "name": "stdout",
     "output_type": "stream",
     "text": [
      "loss is: 57033 <=====> bestsofar is:  57033  temprature is: 2000\n",
      "loss is: 56159 <=====> bestsofar is:  52348  temprature is: 1809.584294227419\n",
      "loss is: 55631 <=====> bestsofar is:  51662  temprature is: 1637.297658957272\n",
      "loss is: 57633 <=====> bestsofar is:  51476  temprature is: 1481.4140643121984\n",
      "loss is: 59054 <=====> bestsofar is:  51476  temprature is: 1340.3718120134808\n",
      "loss is: 55167 <=====> bestsofar is:  51476  temprature is: 1212.7578897223696\n",
      "loss is: 55936 <=====> bestsofar is:  51476  temprature is: 1097.2938149709933\n",
      "loss is: 56476 <=====> bestsofar is:  51476  temprature is: 992.8228268621981\n",
      "loss is: 53012 <=====> bestsofar is:  50679  temprature is: 898.2982972201506\n",
      "loss is: 54263 <=====> bestsofar is:  50008  temprature is: 812.773245090409\n",
      "loss is: 56946 <=====> bestsofar is:  50008  temprature is: 735.3908495419279\n",
      "loss is: 55862 <=====> bestsofar is:  49366  temprature is: 665.3758657248154\n",
      "loss is: 57516 <=====> bestsofar is:  49366  temprature is: 602.0268581867989\n",
      "loss is: 56087 <=====> bestsofar is:  49366  temprature is: 544.7091736389539\n",
      "loss is: 58482 <=====> bestsofar is:  49366  temprature is: 492.8485827693236\n",
      "loss is: 58482 <=====> bestsofar is:  49366  temprature is: 445.9255274058048\n",
      "loss is: 57933 <=====> bestsofar is:  49366  temprature is: 403.4699153943111\n",
      "loss is: 53996 <=====> bestsofar is:  49366  temprature is: 365.0564110454051\n",
      "loss is: 56609 <=====> bestsofar is:  49366  temprature is: 330.30017396739674\n",
      "loss is: 56391 <=====> bestsofar is:  49366  temprature is: 298.85300359599256\n",
      "loss is: 57395 <=====> bestsofar is:  49366  temprature is: 270.3998507949992\n",
      "loss is: 55682 <=====> bestsofar is:  49366  temprature is: 244.65566158003398\n",
      "loss is: 55682 <=====> bestsofar is:  49366  temprature is: 221.3625213445238\n",
      "loss is: 55682 <=====> bestsofar is:  49366  temprature is: 200.28707097781603\n",
      "loss is: 55682 <=====> bestsofar is:  49366  temprature is: 181.21816898913394\n",
      "loss is: 55682 <=====> bestsofar is:  49366  temprature is: 163.96477621569346\n",
      "loss is: 55682 <=====> bestsofar is:  49366  temprature is: 148.354041923216\n",
      "loss is: 55682 <=====> bestsofar is:  49366  temprature is: 134.22957212470374\n",
      "loss is: 55682 <=====> bestsofar is:  49366  temprature is: 121.44986276886524\n",
      "loss is: 55682 <=====> bestsofar is:  49366  temprature is: 109.88688210130687\n",
      "loss is: 55682 <=====> bestsofar is:  49366  temprature is: 99.42478799607241\n",
      "loss is: 55682 <=====> bestsofar is:  49366  temprature is: 89.95876740729162\n",
      "loss is: 55682 <=====> bestsofar is:  49366  temprature is: 81.39398631414615\n",
      "loss is: 55682 <=====> bestsofar is:  49366  temprature is: 73.64463963932008\n",
      "loss is: 55682 <=====> bestsofar is:  49366  temprature is: 66.6330916226758\n",
      "loss is: 55682 <=====> bestsofar is:  49366  temprature is: 60.289098038105365\n",
      "loss is: 55682 <=====> bestsofar is:  49366  temprature is: 54.54910246144626\n",
      "loss is: 55682 <=====> bestsofar is:  49366  temprature is: 49.35559953921768\n",
      "loss is: 55682 <=====> bestsofar is:  49366  temprature is: 44.656558879173154\n",
      "loss is: 55682 <=====> bestsofar is:  49366  temprature is: 40.40490379099685\n",
      "loss is: 55682 <=====> bestsofar is:  49366  temprature is: 36.55803965497885\n",
      "loss is: 55682 <=====> bestsofar is:  49366  temprature is: 33.07742719369643\n",
      "loss is: 55682 <=====> bestsofar is:  49366  temprature is: 29.928196371581965\n",
      "loss is: 55682 <=====> bestsofar is:  49366  temprature is: 27.078797054284358\n",
      "loss is: 55682 <=====> bestsofar is:  49366  temprature is: 24.500682928002313\n",
      "loss is: 55682 <=====> bestsofar is:  49366  temprature is: 22.168025512179405\n",
      "loss is: 55682 <=====> bestsofar is:  49366  temprature is: 20.05745540043627\n",
      "loss is: 55682 <=====> bestsofar is:  49366  temprature is: 18.14782813739821\n",
      "loss is: 55682 <=====> bestsofar is:  49366  temprature is: 16.420012385887112\n",
      "loss is: 55682 <=====> bestsofar is:  49366  temprature is: 14.856698262260501\n",
      "loss is: 55682 <=====> bestsofar is:  49366  temprature is: 13.442223919731184\n",
      "loss is: 55682 <=====> bestsofar is:  49366  temprature is: 12.162418642316831\n",
      "loss is: 55682 <=====> bestsofar is:  49366  temprature is: 11.004460877477637\n",
      "loss is: 55682 <=====> bestsofar is:  49366  temprature is: 9.9567497851618\n",
      "loss is: 55682 <=====> bestsofar is:  49366  temprature is: 9.008789016390514\n",
      "loss is: 55682 <=====> bestsofar is:  49366  temprature is: 8.151081557034367\n",
      "loss is: 55682 <=====> bestsofar is:  49366  temprature is: 7.3750345832880795\n",
      "loss is: 55682 <=====> bestsofar is:  49366  temprature is: 6.672873375651077\n",
      "loss is: 55682 <=====> bestsofar is:  49366  temprature is: 6.037563428973241\n",
      "loss is: 55682 <=====> bestsofar is:  49366  temprature is: 5.462739978235908\n",
      "loss is: 55682 <=====> bestsofar is:  49366  temprature is: 4.942644234031965\n",
      "loss is: 55682 <=====> bestsofar is:  49366  temprature is: 4.472065688928976\n",
      "loss is: 55682 <=====> bestsofar is:  49366  temprature is: 4.046289916719595\n",
      "loss is: 55682 <=====> bestsofar is:  49366  temprature is: 3.6610513415932724\n",
      "loss is: 55682 <=====> bestsofar is:  49366  temprature is: 3.312490504053704\n",
      "loss is: 55682 <=====> bestsofar is:  49366  temprature is: 2.997115395456522\n",
      "loss is: 55682 <=====> bestsofar is:  49366  temprature is: 2.7117664738026597\n",
      "loss is: 55682 <=====> bestsofar is:  49366  temprature is: 2.453585010302879\n",
      "loss is: 55682 <=====> bestsofar is:  49366  temprature is: 2.2199844495979546\n",
      "loss is: 55682 <=====> bestsofar is:  49366  temprature is: 2.008624496710781\n",
      "loss is: 55682 <=====> bestsofar is:  49366  temprature is: 1.8173876711241403\n",
      "loss is: 55682 <=====> bestsofar is:  49366  temprature is: 1.6443580930943944\n",
      "loss is: 55682 <=====> bestsofar is:  49366  temprature is: 1.4878022896746812\n",
      "loss is: 55682 <=====> bestsofar is:  49366  temprature is: 1.3461518281554483\n",
      "loss is: 55682 <=====> bestsofar is:  49366  temprature is: 1.217987602937812\n",
      "loss is: 55682 <=====> bestsofar is:  49366  temprature is: 1.1020256184199821\n",
      "loss is: 55682 <=====> bestsofar is:  49366  temprature is: 0.9971041254645288\n",
      "loss is: 55682 <=====> bestsofar is:  49366  temprature is: 0.9021719825749881\n",
      "loss is: 55682 <=====> bestsofar is:  49366  temprature is: 0.8162781251798554\n",
      "loss is: 55682 <=====> bestsofar is:  49366  temprature is: 0.7385620375234339\n",
      "loss is: 55682 <=====> bestsofar is:  49366  temprature is: 0.6682451317075031\n",
      "loss is: 55682 <=====> bestsofar is:  49366  temprature is: 0.6046229475159152\n",
      "loss is: 55682 <=====> bestsofar is:  49366  temprature is: 0.5470580948771445\n",
      "loss is: 55682 <=====> bestsofar is:  49366  temprature is: 0.49497386825982675\n",
      "loss is: 55682 <=====> bestsofar is:  49366  temprature is: 0.447848469027987\n",
      "loss is: 55682 <=====> bestsofar is:  49366  temprature is: 0.4052097778734198\n",
      "loss is: 55682 <=====> bestsofar is:  49366  temprature is: 0.3666306249535604\n",
      "loss is: 55682 <=====> bestsofar is:  49366  temprature is: 0.33172451034937256\n",
      "loss is: 55682 <=====> bestsofar is:  49366  temprature is: 0.30014173196925265\n",
      "loss is: 55682 <=====> bestsofar is:  49366  temprature is: 0.2715658821068876\n",
      "loss is: 55682 <=====> bestsofar is:  49366  temprature is: 0.24571067755431927\n",
      "loss is: 55682 <=====> bestsofar is:  49366  temprature is: 0.2223170915131366\n",
      "loss is: 55682 <=====> bestsofar is:  49366  temprature is: 0.20115075857024586\n",
      "loss is: 55682 <=====> bestsofar is:  49366  temprature is: 0.18199962674032397\n",
      "loss is: 55682 <=====> bestsofar is:  49366  temprature is: 0.16467183305227132\n",
      "loss is: 55682 <=====> bestsofar is:  49366  temprature is: 0.1489937813965148\n",
      "loss is: 55682 <=====> bestsofar is:  49366  temprature is: 0.13480840337634323\n",
      "loss is: 55682 <=====> bestsofar is:  49366  temprature is: 0.12197358473985251\n",
      "loss is: 55682 <=====> bestsofar is:  49366  temprature is: 0.11036074162792706\n",
      "9899\n"
     ]
    },
    {
     "data": {
      "text/plain": [
       "(49366,\n",
       " {0: [0, 95, 18, 20, 31, 4, 39, 86, 41],\n",
       "  1: [0, 11, 87, 16, 80, 70, 2, 12],\n",
       "  2: [0, 52, 68, 69, 64, 88, 40, 30, 23],\n",
       "  3: [0, 59, 14, 76, 81, 101, 63, 44, 94, 17],\n",
       "  4: [0, 105, 15, 79, 98, 65, 35, 8, 54, 48],\n",
       "  5: [0, 74, 100, 38, 66, 97, 32, 46, 22],\n",
       "  6: [0, 7, 78, 84, 91, 77, 99, 5, 55],\n",
       "  7: [0, 34, 67, 13, 93, 26, 72, 104],\n",
       "  8: [0, 62, 10, 21, 29, 24, 57, 53, 82],\n",
       "  9: [0, 103, 75, 28, 73, 50, 33, 42],\n",
       "  10: [0, 37, 56, 90, 1, 71, 83, 3, 96],\n",
       "  11: [0, 60, 49, 36, 102, 61, 92, 27],\n",
       "  12: [0, 6, 89, 47, 51, 19, 43, 45, 25],\n",
       "  13: [0, 9, 85, 58]},\n",
       " 2.1299598892529805)"
      ]
     },
     "execution_count": 2,
     "metadata": {},
     "output_type": "execute_result"
    },
    {
     "data": {
      "image/png": "[encoded data removed]",
      "text/plain": [
       "<Figure size 432x288 with 1 Axes>"
      ]
     },
     "metadata": {
      "needs_background": "light"
     },
     "output_type": "display_data"
    }
   ],
   "source": [
    "SA_Model(NUMBER_OF_ITERATIONS=2, coolingRate=0.999, Instance=2, Neighbor_Method=\"Hybrid\")"
   ]
  },
  {
   "cell_type": "code",
   "execution_count": null,
   "metadata": {},
   "outputs": [],
   "source": []
  }
 ],
 "metadata": {
  "kernelspec": {
   "display_name": "Python 3",
   "language": "python",
   "name": "python3"
  },
  "language_info": {
   "codemirror_mode": {
    "name": "ipython",
    "version": 3
   },
   "file_extension": ".py",
   "mimetype": "text/x-python",
   "name": "python",
   "nbconvert_exporter": "python",
   "pygments_lexer": "ipython3",
   "version": "3.8.5"
  }
 },
 "nbformat": 4,
 "nbformat_minor": 4
}
